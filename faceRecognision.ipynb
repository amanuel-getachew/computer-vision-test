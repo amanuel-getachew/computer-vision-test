{
 "cells": [
  {
   "cell_type": "code",
   "execution_count": 1,
   "id": "1ccb1922-8722-45bf-ace6-5eff61c3b5a1",
   "metadata": {},
   "outputs": [],
   "source": [
    "import cv2\n",
    "import numpy as np\n",
    "import pickle"
   ]
  },
  {
   "cell_type": "code",
   "execution_count": 2,
   "id": "0ce2b646-412f-490f-a965-29a78e4e843a",
   "metadata": {},
   "outputs": [],
   "source": [
    "cap = cv2.VideoCapture(\"face2.mp4\")\n",
    "face_cascade = cv2. CascadeClassifier(cv2.data.haarcascades+\"haarcascade_frontalface_alt2.xml\")\n",
    "recognizer = cv2.face.LBPHFaceRecognizer_create()\n",
    "recognizer.read(\"trainner.yml\")\n",
    "label={}\n",
    "with open(\"labels.pickle\", 'rb') as f:\n",
    "    ogLable=pickle.load(f)\n",
    "    label = {v:k for k,v in ogLable.items() }\n",
    "while True:\n",
    "    ret, frame = cap.read()\n",
    "    \n",
    "    gray= cv2.cvtColor(frame, cv2.COLOR_BGR2GRAY)\n",
    "    faces= face_cascade.detectMultiScale(gray, 1.3, 5)\n",
    "    for (x, y, w, h) in faces:\n",
    "        cv2.rectangle(frame, (x,y), (x+w, y+h), (255, 0, 0), 5)\n",
    "        roi_gray= gray[y:y+w, x:x+w]\n",
    "        roi_color=frame[y:y+h, x:x+w]\n",
    "        \n",
    "        id_, conf = recognizer.predict(roi_gray)\n",
    "        if conf >= 85:\n",
    "            #print(label[id_])\n",
    "            cv2.putText(frame, label[id_], (x,y), cv2.FONT_HERSHEY_SIMPLEX, 1, (255,255,255), 1, cv2.LINE_AA)\n",
    "    cv2.imshow(\"frame\", frame)\n",
    "    if cv2.waitKey(20)==ord('x'):\n",
    "        break\n",
    "cap.release()\n",
    "cv2.destroyAllWindows()"
   ]
  },
  {
   "cell_type": "code",
   "execution_count": null,
   "id": "b3eb7283-77ab-4c69-8fb4-ad476a2b7b2a",
   "metadata": {},
   "outputs": [],
   "source": []
  }
 ],
 "metadata": {
  "kernelspec": {
   "display_name": "Python 3 (ipykernel)",
   "language": "python",
   "name": "python3"
  },
  "language_info": {
   "codemirror_mode": {
    "name": "ipython",
    "version": 3
   },
   "file_extension": ".py",
   "mimetype": "text/x-python",
   "name": "python",
   "nbconvert_exporter": "python",
   "pygments_lexer": "ipython3",
   "version": "3.8.10"
  }
 },
 "nbformat": 4,
 "nbformat_minor": 5
}
