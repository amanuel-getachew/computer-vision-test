{
 "cells": [
  {
   "cell_type": "code",
   "execution_count": 1,
   "id": "ed638f38-c8c4-4e99-b163-c5b0b79fb878",
   "metadata": {},
   "outputs": [],
   "source": [
    "import os\n",
    "from PIL import Image\n",
    "import numpy as np\n",
    "import cv2\n",
    "import pickle"
   ]
  },
  {
   "cell_type": "code",
   "execution_count": 2,
   "id": "b33b1c46-cecb-4e6d-9701-84991f93eec5",
   "metadata": {},
   "outputs": [
    {
     "name": "stdout",
     "output_type": "stream",
     "text": [
      "{'aba': 0}\n",
      "{'aba': 0}\n",
      "{'aba': 0}\n",
      "{'aba': 0}\n",
      "{'aba': 0}\n",
      "{'aba': 0}\n",
      "{'aba': 0}\n",
      "{'aba': 0}\n",
      "{'aba': 0}\n",
      "{'aba': 0, '.ipynb_checkpoints': 1}\n",
      "{'aba': 0, '.ipynb_checkpoints': 1}\n",
      "{'aba': 0, '.ipynb_checkpoints': 1}\n",
      "{'aba': 0, '.ipynb_checkpoints': 1}\n",
      "{'aba': 0, '.ipynb_checkpoints': 1}\n",
      "{'aba': 0, '.ipynb_checkpoints': 1}\n",
      "{'aba': 0, '.ipynb_checkpoints': 1}\n",
      "{'aba': 0, '.ipynb_checkpoints': 1}\n",
      "{'aba': 0, '.ipynb_checkpoints': 1, 'preach': 2}\n",
      "{'aba': 0, '.ipynb_checkpoints': 1, 'preach': 2}\n",
      "{'aba': 0, '.ipynb_checkpoints': 1, 'preach': 2}\n",
      "{'aba': 0, '.ipynb_checkpoints': 1, 'preach': 2}\n",
      "{'aba': 0, '.ipynb_checkpoints': 1, 'preach': 2}\n",
      "{'aba': 0, '.ipynb_checkpoints': 1, 'preach': 2}\n",
      "{'aba': 0, '.ipynb_checkpoints': 1, 'preach': 2}\n",
      "{'aba': 0, '.ipynb_checkpoints': 1, 'preach': 2}\n",
      "{'aba': 0, '.ipynb_checkpoints': 1, 'preach': 2}\n",
      "{'aba': 0, '.ipynb_checkpoints': 1, 'preach': 2}\n",
      "{'aba': 0, '.ipynb_checkpoints': 1, 'preach': 2}\n",
      "{'aba': 0, '.ipynb_checkpoints': 1, 'preach': 2}\n"
     ]
    }
   ],
   "source": [
    "face_cascade = cv2. CascadeClassifier(cv2.data.haarcascades+\"haarcascade_frontalface_alt2.xml\")\n",
    "baseDir = os.path.dirname(os.path.abspath(\"face training.ipynb\"))\n",
    "imageDir= os.path.join(baseDir, \"img\")\n",
    "recognizer = cv2.face.LBPHFaceRecognizer_create()\n",
    "current_id =0\n",
    "label_ids ={}\n",
    "y_lables = []\n",
    "x_train= []\n",
    "\n",
    "for root, dirs, files in os.walk(imageDir):\n",
    "    for file in files:\n",
    "        if file.endswith(\"jpg\") or file.endswith(\"jpeg\"):\n",
    "            path= os.path.join(root, file)\n",
    "            label = os.path.basename(root).replace(\" \", \"_\").lower()\n",
    "            if not label in label_ids:\n",
    "                label_ids[label]=current_id\n",
    "                current_id +=1\n",
    "            id_ =label_ids[label]\n",
    "            print(label_ids)\n",
    "            pil_image = Image.open(path).convert(\"L\")\n",
    "            image_array = np.array(pil_image, \"uint8\")\n",
    "            faces= face_cascade.detectMultiScale(image_array, 1.3, 5)\n",
    "            \n",
    "            for (x, y, w, h) in faces:\n",
    "                roi= image_array[y:y+w, x:x+w]\n",
    "                x_train.append(roi)\n",
    "                y_lables.append(id_)\n",
    "with open(\"labels.pickle\", 'wb') as f:\n",
    "    pickle.dump(label_ids, f)\n",
    "    \n",
    "recognizer.train(x_train, np.array(y_lables))\n",
    "recognizer.save(\"trainner.yml\")"
   ]
  },
  {
   "cell_type": "code",
   "execution_count": null,
   "id": "d4f4f6b1-9853-4a08-b100-5be4b25fac98",
   "metadata": {},
   "outputs": [],
   "source": []
  }
 ],
 "metadata": {
  "kernelspec": {
   "display_name": "Python 3 (ipykernel)",
   "language": "python",
   "name": "python3"
  },
  "language_info": {
   "codemirror_mode": {
    "name": "ipython",
    "version": 3
   },
   "file_extension": ".py",
   "mimetype": "text/x-python",
   "name": "python",
   "nbconvert_exporter": "python",
   "pygments_lexer": "ipython3",
   "version": "3.8.10"
  }
 },
 "nbformat": 4,
 "nbformat_minor": 5
}
